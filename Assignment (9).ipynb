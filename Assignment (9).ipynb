{
 "cells": [
  {
   "cell_type": "code",
   "execution_count": null,
   "id": "d7a3a2a7-9c6d-4dd0-9ab5-120c0f878033",
   "metadata": {},
   "outputs": [],
   "source": [
    "# Q1. Explain GET and POST methods.\n",
    "# A1.Both GET and POST method is used to transfer data from client to server in HTTP protocol but Main difference between \n",
    "#     POST and GET method is that GET carries request parameter appended in URL string while POST carries request parameter in message \n",
    "#     body which makes it more secure way of transferring data from client to the server."
   ]
  },
  {
   "cell_type": "code",
   "execution_count": null,
   "id": "3e1ea65f-d237-4b81-acf1-5577f5baabd4",
   "metadata": {},
   "outputs": [],
   "source": [
    "# Q2. Why is request used in Flask?\n",
    "# A2.In a Flask App, we have our own Webpage (Client) and a Server. The Server should process the data. The Request, \n",
    "#     in Flask, is an object that contains all the data sent from the Client to Server. This data can be recovered using the GET/POST Methods."
   ]
  },
  {
   "cell_type": "code",
   "execution_count": null,
   "id": "82c7e7c2-94de-4b2f-8d0a-cb0f00e95a68",
   "metadata": {},
   "outputs": [],
   "source": [
    "# Q3. Why is redirect() used in Flask?\n",
    "# A3.A redirect is used in the Flask class to send the user to a particular URL with the status code. "
   ]
  },
  {
   "cell_type": "code",
   "execution_count": null,
   "id": "741ef256-fab2-4e49-92cf-0e02a418812e",
   "metadata": {},
   "outputs": [],
   "source": [
    "# Q4. What are templates in Flask? Why is the render_template() function used?"
   ]
  },
  {
   "cell_type": "code",
   "execution_count": null,
   "id": "7f0e830c-d52b-4941-83d8-f7d8f67681d4",
   "metadata": {},
   "outputs": [],
   "source": [
    "# A4.Templates are files that contain static data as well as placeholders for dynamic data. A template is rendered with specific data to\n",
    "    # produce a final document.\n",
    "    # render_template is used to generate output from a template file based on the Jinja2 engine that is found in the application's\n",
    "    # templates folder. Note that render_template is typically imported directly from the flask package instead of from flask."
   ]
  },
  {
   "cell_type": "code",
   "execution_count": null,
   "id": "27386721-aa49-4c2b-8b7f-d85c46e25ca7",
   "metadata": {},
   "outputs": [],
   "source": [
    "# Q5. Create a simple API. Use Postman to test it. Attach the screenshot of the output in the Jupyter Notebook."
   ]
  },
  {
   "cell_type": "code",
   "execution_count": null,
   "id": "da7ed087-fe39-4bfb-90ed-5edc5a158eea",
   "metadata": {},
   "outputs": [],
   "source": [
    "# A5.https://mango-musician-hqwzn.pwskills.app/lab/tree/work/screenshot5.pdf"
   ]
  },
  {
   "cell_type": "code",
   "execution_count": null,
   "id": "4348592b-9798-4535-ba16-b17e4fb76c5a",
   "metadata": {},
   "outputs": [],
   "source": []
  }
 ],
 "metadata": {
  "kernelspec": {
   "display_name": "Python 3 (ipykernel)",
   "language": "python",
   "name": "python3"
  },
  "language_info": {
   "codemirror_mode": {
    "name": "ipython",
    "version": 3
   },
   "file_extension": ".py",
   "mimetype": "text/x-python",
   "name": "python",
   "nbconvert_exporter": "python",
   "pygments_lexer": "ipython3",
   "version": "3.10.8"
  }
 },
 "nbformat": 4,
 "nbformat_minor": 5
}
